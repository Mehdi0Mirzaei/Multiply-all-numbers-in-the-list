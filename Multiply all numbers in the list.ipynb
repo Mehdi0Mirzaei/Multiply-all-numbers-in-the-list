{
 "cells": [
  {
   "cell_type": "code",
   "execution_count": 32,
   "id": "290bd9dc",
   "metadata": {},
   "outputs": [],
   "source": [
    "def multiply_ele_list(lst):\n",
    "    s=1\n",
    "    for element in lst:\n",
    "        s*=element\n",
    "        element+=1\n",
    "    return s"
   ]
  },
  {
   "cell_type": "code",
   "execution_count": 33,
   "id": "b8870239",
   "metadata": {},
   "outputs": [
    {
     "data": {
      "text/plain": [
       "24"
      ]
     },
     "execution_count": 33,
     "metadata": {},
     "output_type": "execute_result"
    }
   ],
   "source": [
    "multiply_ele_list([1,2,3,4])"
   ]
  },
  {
   "cell_type": "code",
   "execution_count": 34,
   "id": "7516a63c",
   "metadata": {},
   "outputs": [
    {
     "name": "stdout",
     "output_type": "stream",
     "text": [
      "6\n",
      "24\n"
     ]
    }
   ],
   "source": [
    "import numpy\n",
    "list1 = [1, 2, 3]\n",
    "list2 = [3, 2, 4]\n",
    " \n",
    "# using numpy.prod() to get the multiplications\n",
    "result1 = numpy.prod(list1)\n",
    "result2 = numpy.prod(list2)\n",
    "print(result1)\n",
    "print(result2)"
   ]
  },
  {
   "cell_type": "code",
   "execution_count": 35,
   "id": "b0106f62",
   "metadata": {},
   "outputs": [
    {
     "name": "stdout",
     "output_type": "stream",
     "text": [
      "6\n",
      "24\n"
     ]
    }
   ],
   "source": [
    "from functools import reduce\n",
    "list1 = [1, 2, 3]\n",
    "list2 = [3, 2, 4]\n",
    " \n",
    "result1 = reduce((lambda x, y: x * y), list1)\n",
    "result2 = reduce((lambda x, y: x * y), list2)\n",
    "print(result1)\n",
    "print(result2)"
   ]
  },
  {
   "cell_type": "code",
   "execution_count": 36,
   "id": "5e3af33f",
   "metadata": {},
   "outputs": [
    {
     "name": "stdout",
     "output_type": "stream",
     "text": [
      "6\n",
      "24\n"
     ]
    }
   ],
   "source": [
    "import math\n",
    "list1 = [1, 2, 3]\n",
    "list2 = [3, 2, 4]\n",
    " \n",
    "result1 = math.prod(list1)\n",
    "result2 = math.prod(list2)\n",
    "print(result1)\n",
    "print(result2)"
   ]
  },
  {
   "cell_type": "code",
   "execution_count": 37,
   "id": "8333915a",
   "metadata": {},
   "outputs": [
    {
     "name": "stdout",
     "output_type": "stream",
     "text": [
      "6\n"
     ]
    }
   ],
   "source": [
    "from operator import*\n",
    "list1 = [1, 2, 3]\n",
    "m = 1\n",
    "for i in list1:\n",
    "  # multiplying all elements in the given list\n",
    "  # using mul function of operator module\n",
    "    m = mul(i, m)\n",
    "# printing the result\n",
    "print(m)"
   ]
  },
  {
   "cell_type": "code",
   "execution_count": 38,
   "id": "38ba27f3",
   "metadata": {},
   "outputs": [],
   "source": [
    "def multiplyList(myList) :\n",
    "     \n",
    "    # Multiply elements one by one\n",
    "    result = 1\n",
    "    for i in range(0,len(myList)):\n",
    "        result = result * myList[i]\n",
    "    return result"
   ]
  },
  {
   "cell_type": "code",
   "execution_count": 39,
   "id": "ac3dc414",
   "metadata": {},
   "outputs": [
    {
     "data": {
      "text/plain": [
       "24"
      ]
     },
     "execution_count": 39,
     "metadata": {},
     "output_type": "execute_result"
    }
   ],
   "source": [
    "multiplyList([1,2,3,4])"
   ]
  },
  {
   "cell_type": "code",
   "execution_count": 40,
   "id": "ebb0fce4",
   "metadata": {},
   "outputs": [
    {
     "name": "stdout",
     "output_type": "stream",
     "text": [
      "6\n",
      "24\n"
     ]
    }
   ],
   "source": [
    "from itertools import accumulate\n",
    "list1 = [1, 2, 3]\n",
    "list2 = [3, 2, 4]\n",
    " \n",
    "result1 = list(accumulate(list1, (lambda x, y: x * y)))\n",
    "result2 = list(accumulate(list2, (lambda x, y: x * y)))\n",
    "print(result1[-1])\n",
    "print(result2[-1])"
   ]
  },
  {
   "cell_type": "code",
   "execution_count": 42,
   "id": "310ed9ad",
   "metadata": {},
   "outputs": [
    {
     "name": "stdout",
     "output_type": "stream",
     "text": [
      "6\n"
     ]
    }
   ],
   "source": [
    "def product_recursive(numbers):\n",
    "    # base case: list is empty\n",
    "    if not numbers:\n",
    "        return 1\n",
    "    # recursive case: multiply first element by product of the rest of the list\n",
    "    return numbers[0] * product_recursive(numbers[1:])\n",
    "print(product) "
   ]
  },
  {
   "cell_type": "code",
   "execution_count": 43,
   "id": "0bf66af8",
   "metadata": {},
   "outputs": [
    {
     "data": {
      "text/plain": [
       "24"
      ]
     },
     "execution_count": 43,
     "metadata": {},
     "output_type": "execute_result"
    }
   ],
   "source": [
    "product_recursive([1,2,3,4])"
   ]
  },
  {
   "cell_type": "code",
   "execution_count": null,
   "id": "068d95b3",
   "metadata": {},
   "outputs": [],
   "source": []
  }
 ],
 "metadata": {
  "kernelspec": {
   "display_name": "Python 3 (ipykernel)",
   "language": "python",
   "name": "python3"
  },
  "language_info": {
   "codemirror_mode": {
    "name": "ipython",
    "version": 3
   },
   "file_extension": ".py",
   "mimetype": "text/x-python",
   "name": "python",
   "nbconvert_exporter": "python",
   "pygments_lexer": "ipython3",
   "version": "3.9.17"
  }
 },
 "nbformat": 4,
 "nbformat_minor": 5
}
